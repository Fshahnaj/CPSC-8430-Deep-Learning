{
 "cells": [
  {
   "cell_type": "code",
   "execution_count": 47,
   "id": "c6385c41",
   "metadata": {},
   "outputs": [
    {
     "data": {
      "text/html": [
       "<h1>Principal Componant Analysis:</h1>"
      ],
      "text/plain": [
       "<IPython.core.display.HTML object>"
      ]
     },
     "metadata": {},
     "output_type": "display_data"
    }
   ],
   "source": [
    "from IPython.display import display, HTML\n",
    "p=\"Principal Componant Analysis:\"\n",
    "html_markup=\"<h1>\" +p+ \"</h1>\"\n",
    "display(HTML(html_markup))"
   ]
  },
  {
   "cell_type": "code",
   "execution_count": 31,
   "id": "a7a32c64",
   "metadata": {},
   "outputs": [],
   "source": [
    "import torch\n",
    "import torch.nn as nn\n",
    "import torch.optim as optim\n",
    "from torchvision import datasets, transforms\n",
    "from torch.autograd import Variable\n",
    "import torch.nn.functional as F\n",
    "import numpy as np\n",
    "import matplotlib.pyplot as plt\n",
    "import os\n",
    "import pandas as pd\n",
    "from sklearn.decomposition import PCA"
   ]
  },
  {
   "cell_type": "code",
   "execution_count": 32,
   "id": "26372ebb",
   "metadata": {},
   "outputs": [],
   "source": [
    "torch.manual_seed(1)\n",
    "os.environ['KMP_DUPLICATE_LIB_OK']='True'"
   ]
  },
  {
   "cell_type": "code",
   "execution_count": 33,
   "id": "e08d85b8",
   "metadata": {},
   "outputs": [],
   "source": [
    "def load_training_data(train_batch_size, test_batch_size):\n",
    "    \n",
    "    trainset = datasets.MNIST('data', train = True, download = True, \n",
    "                transform = transforms.Compose([\n",
    "                transforms.ToTensor()\n",
    "                ]))\n",
    "    train_loader = torch.utils.data.DataLoader(trainset, batch_size = train_batch_size, shuffle=True)\n",
    "\n",
    "    testset = datasets.MNIST('data', train = False, download = True, \n",
    "                transform = transforms.Compose([\n",
    "                transforms.ToTensor()\n",
    "                ]))\n",
    "    test_loader = torch.utils.data.DataLoader(testset ,batch_size = test_batch_size, shuffle=True)\n",
    "\n",
    "    return (train_loader, test_loader)"
   ]
  },
  {
   "cell_type": "code",
   "execution_count": 34,
   "id": "9038add3",
   "metadata": {},
   "outputs": [],
   "source": [
    "class Model_1 (nn.Module):\n",
    "    def __init__(self):\n",
    "        super().__init__()\n",
    "        self.fc1 = nn.Linear(784, 10)\n",
    "        self.fc2 = nn.Linear(10, 20)\n",
    "        self.fc3 = nn.Linear(20, 10)\n",
    "\n",
    "    def forward(self, val):\n",
    "        val = F.relu(self.fc1(val))\n",
    "        val = F.relu(self.fc2(val))\n",
    "        val = self.fc3(val)\n",
    "        return val"
   ]
  },
  {
   "cell_type": "code",
   "execution_count": 35,
   "id": "e434cc73",
   "metadata": {},
   "outputs": [],
   "source": [
    "def calculate_func_loss(model, loader, loss_fn):\n",
    "    #loss \n",
    "    correct_cnt = 0\n",
    "    total = 0\n",
    "    costSum = 0\n",
    "    costCounter = 0\n",
    "    with torch.no_grad():\n",
    "        for batch in loader:\n",
    "            data, target = batch\n",
    "            output = model(data.view(-1, 784))\n",
    "            cost = loss_fn(output, target)\n",
    "            costSum += cost\n",
    "            costCounter += 1\n",
    "            for i, outputTensor in enumerate(output):\n",
    "                if torch.argmax(outputTensor) == target[i]:\n",
    "                    correct_cnt += 1\n",
    "                total += 1\n",
    "    return costSum / costCounter, round(correct_cnt/total, 3)"
   ]
  },
  {
   "cell_type": "code",
   "execution_count": 36,
   "id": "b72d188d",
   "metadata": {},
   "outputs": [],
   "source": [
    "def train_func(model, num_epochs):\n",
    "    model.train()\n",
    "    epoch = 0 \n",
    "    \n",
    "    df = pd.DataFrame()\n",
    "    for epoch in range (num_epochs):\n",
    "        epoch += 1\n",
    "\n",
    "        for _, (images, labels) in enumerate(train_loader):  \n",
    "            images, labels = Variable(images),Variable(labels)     \n",
    "            optimizer.zero_grad()\n",
    "            prediction = model(images.view(-1, 784))\n",
    "            loss = loss_fn(prediction, labels)\n",
    "            loss.backward()\n",
    "            optimizer.step()\n",
    "\n",
    "        temp_df = pd.DataFrame()\n",
    "        for name, parameter in model.named_parameters():\n",
    "            if 'weight' in name:\n",
    "                weights = torch.nn.utils.parameters_to_vector(parameter).detach().numpy() \n",
    "                temp_df = pd.concat([temp_df, pd.DataFrame(weights).T], axis = 1)\n",
    "        df = pd.concat([df, temp_df], axis = 0)\n",
    "        train_loss, train_acc = calculate_func_loss(M, train_loader, loss_fn)\n",
    "        test_loss, test_acc = calculate_func_loss(M, test_loader, loss_fn)\n",
    "\n",
    "        train_loss_arr.append(train_loss)\n",
    "        test_loss_arr.append(test_loss)\n",
    "        train_acc_arr.append(train_acc)\n",
    "        test_acc_arr.append(test_acc)\n",
    "\n",
    "    return df"
   ]
  },
  {
   "cell_type": "code",
   "execution_count": 37,
   "id": "a71bb48a",
   "metadata": {},
   "outputs": [],
   "source": [
    "train_batch_size = 1000\n",
    "test_batch_size = 1000\n",
    "train_loader, test_loader = load_training_data(train_batch_size, test_batch_size)\n",
    "train_loss_arr = []\n",
    "test_loss_arr = []\n",
    "train_acc_arr = []\n",
    "test_acc_arr = []"
   ]
  },
  {
   "cell_type": "code",
   "execution_count": 38,
   "id": "3f2f8637",
   "metadata": {},
   "outputs": [
    {
     "name": "stdout",
     "output_type": "stream",
     "text": [
      "Time: 0\n"
     ]
    },
    {
     "name": "stderr",
     "output_type": "stream",
     "text": [
      "C:\\Users\\fujai\\AppData\\Local\\Temp\\ipykernel_16880\\1746869406.py:14: FutureWarning: The frame.append method is deprecated and will be removed from pandas in a future version. Use pandas.concat instead.\n",
      "  all_df = all_df.append(temp_df)\n"
     ]
    },
    {
     "name": "stdout",
     "output_type": "stream",
     "text": [
      "Time: 1\n"
     ]
    },
    {
     "name": "stderr",
     "output_type": "stream",
     "text": [
      "C:\\Users\\fujai\\AppData\\Local\\Temp\\ipykernel_16880\\1746869406.py:14: FutureWarning: The frame.append method is deprecated and will be removed from pandas in a future version. Use pandas.concat instead.\n",
      "  all_df = all_df.append(temp_df)\n"
     ]
    },
    {
     "name": "stdout",
     "output_type": "stream",
     "text": [
      "Time: 2\n"
     ]
    },
    {
     "name": "stderr",
     "output_type": "stream",
     "text": [
      "C:\\Users\\fujai\\AppData\\Local\\Temp\\ipykernel_16880\\1746869406.py:14: FutureWarning: The frame.append method is deprecated and will be removed from pandas in a future version. Use pandas.concat instead.\n",
      "  all_df = all_df.append(temp_df)\n"
     ]
    },
    {
     "name": "stdout",
     "output_type": "stream",
     "text": [
      "Time: 3\n"
     ]
    },
    {
     "name": "stderr",
     "output_type": "stream",
     "text": [
      "C:\\Users\\fujai\\AppData\\Local\\Temp\\ipykernel_16880\\1746869406.py:14: FutureWarning: The frame.append method is deprecated and will be removed from pandas in a future version. Use pandas.concat instead.\n",
      "  all_df = all_df.append(temp_df)\n"
     ]
    },
    {
     "name": "stdout",
     "output_type": "stream",
     "text": [
      "Time: 4\n"
     ]
    },
    {
     "name": "stderr",
     "output_type": "stream",
     "text": [
      "C:\\Users\\fujai\\AppData\\Local\\Temp\\ipykernel_16880\\1746869406.py:14: FutureWarning: The frame.append method is deprecated and will be removed from pandas in a future version. Use pandas.concat instead.\n",
      "  all_df = all_df.append(temp_df)\n"
     ]
    },
    {
     "name": "stdout",
     "output_type": "stream",
     "text": [
      "Time: 5\n"
     ]
    },
    {
     "name": "stderr",
     "output_type": "stream",
     "text": [
      "C:\\Users\\fujai\\AppData\\Local\\Temp\\ipykernel_16880\\1746869406.py:14: FutureWarning: The frame.append method is deprecated and will be removed from pandas in a future version. Use pandas.concat instead.\n",
      "  all_df = all_df.append(temp_df)\n"
     ]
    },
    {
     "name": "stdout",
     "output_type": "stream",
     "text": [
      "Time: 6\n"
     ]
    },
    {
     "name": "stderr",
     "output_type": "stream",
     "text": [
      "C:\\Users\\fujai\\AppData\\Local\\Temp\\ipykernel_16880\\1746869406.py:14: FutureWarning: The frame.append method is deprecated and will be removed from pandas in a future version. Use pandas.concat instead.\n",
      "  all_df = all_df.append(temp_df)\n"
     ]
    }
   ],
   "source": [
    "max_epochs = 29\n",
    "all_df = pd.DataFrame()\n",
    "columns=[\"x\",\"y\",\"Times\"]\n",
    "\n",
    "loss_fn = nn.CrossEntropyLoss()\n",
    "\n",
    "for count in range(7):\n",
    "    print(\"Time: \"+str(count))\n",
    "    M = Model_1()\n",
    "    optimizer = torch.optim.Adam(M.parameters(),lr = 0.0004, weight_decay=1e-4)\n",
    "    model_name1 = \"Times: \"+str(count)    \n",
    "    temp_df = train_func(M, max_epochs)\n",
    "\n",
    "    all_df = all_df.append(temp_df)"
   ]
  },
  {
   "cell_type": "code",
   "execution_count": 39,
   "id": "3e04c327",
   "metadata": {},
   "outputs": [],
   "source": [
    "df = all_df\n",
    "df = np.array(df)\n",
    "pca = PCA(n_components=2)\n",
    "new_data = pca.fit_transform(df)"
   ]
  },
  {
   "cell_type": "code",
   "execution_count": 40,
   "id": "9c73949a",
   "metadata": {},
   "outputs": [],
   "source": [
    "df = pd.DataFrame(new_data, columns=['x','y'])\n",
    "df['Accuracy'] = train_acc_arr\n",
    "df['Loss'] = train_loss_arr\n",
    "final_df = df.iloc[::3, :]"
   ]
  },
  {
   "cell_type": "code",
   "execution_count": 41,
   "id": "db4744ab",
   "metadata": {},
   "outputs": [
    {
     "data": {
      "image/png": "[encoded data removed]",
      "text/plain": [
       "<Figure size 640x480 with 1 Axes>"
      ]
     },
     "metadata": {},
     "output_type": "display_data"
    }
   ],
   "source": [
    "for i in range(1,66):\n",
    "    Z = list(final_df['Accuracy'])[i]\n",
    "    plt.scatter(final_df['x'][i*3], final_df['y'][i*3], marker = f'${Z}$')\n",
    "    plt.title(\"Principal Component Analysis for Model\")\n",
    "plt.show()"
   ]
  },
  {
   "cell_type": "code",
   "execution_count": 42,
   "id": "d59e7963",
   "metadata": {},
   "outputs": [],
   "source": [
    "layer_1 = all_df.iloc[ : , 0:7840]"
   ]
  },
  {
   "cell_type": "code",
   "execution_count": 43,
   "id": "53582382",
   "metadata": {},
   "outputs": [],
   "source": [
    "df = layer_1\n",
    "df = np.array(df)\n",
    "pca = PCA(n_components=2)\n",
    "new_data = pca.fit_transform(df)"
   ]
  },
  {
   "cell_type": "code",
   "execution_count": 44,
   "id": "8a9f13af",
   "metadata": {},
   "outputs": [],
   "source": [
    "df = pd.DataFrame(new_data, columns=['x','y'])\n",
    "df['Accuracy'] = train_acc_arr\n",
    "df['Loss'] = train_loss_arr\n",
    "final_df = df.iloc[::3, :]"
   ]
  },
  {
   "cell_type": "code",
   "execution_count": 45,
   "id": "ee51192e",
   "metadata": {},
   "outputs": [
    {
     "data": {
      "image/png": "[encoded data removed]",
      "text/plain": [
       "<Figure size 640x480 with 1 Axes>"
      ]
     },
     "metadata": {},
     "output_type": "display_data"
    }
   ],
   "source": [
    "for i in range(66):\n",
    "    Z = list(final_df['Accuracy'])[i]\n",
    "    plt.scatter(final_df['x'][i*3], final_df['y'][i*3], marker = f'${Z}$')\n",
    "    plt.title(\"PCA for 1 layer\")\n",
    "plt.show()"
   ]
  },
  {
   "cell_type": "code",
   "execution_count": null,
   "id": "9cde3337",
   "metadata": {},
   "outputs": [],
   "source": []
  }
 ],
 "metadata": {
  "kernelspec": {
   "display_name": "Python 3 (ipykernel)",
   "language": "python",
   "name": "python3"
  },
  "language_info": {
   "codemirror_mode": {
    "name": "ipython",
    "version": 3
   },
   "file_extension": ".py",
   "mimetype": "text/x-python",
   "name": "python",
   "nbconvert_exporter": "python",
   "pygments_lexer": "ipython3",
   "version": "3.11.4"
  }
 },
 "nbformat": 4,
 "nbformat_minor": 5
}
